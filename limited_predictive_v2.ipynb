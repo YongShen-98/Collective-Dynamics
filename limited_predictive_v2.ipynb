{
 "cells": [
  {
   "cell_type": "code",
   "execution_count": 16,
   "id": "83b4d96a",
   "metadata": {},
   "outputs": [],
   "source": [
    "import sys\n",
    "import copy\n",
    "import time\n",
    "import numpy as np\n",
    "import matplotlib.pyplot as plt\n",
    "from scipy.interpolate import RegularGridInterpolator\n",
    "from scipy.sparse import csr_matrix"
   ]
  },
  {
   "cell_type": "code",
   "execution_count": 17,
   "id": "2f175f02",
   "metadata": {},
   "outputs": [],
   "source": [
    "T = 0.5\n",
    "\n",
    "theta = 0.25\n",
    "\n",
    "Nt = 50\n",
    "dt = T / (Nt - 1)\n",
    "theta_steps = int(theta / dt)\n",
    "\n",
    "\n",
    "sigma = 0.05\n",
    "\n",
    "Nx = 31\n",
    "Ny = 31\n",
    "x = np.linspace(0, 1, Nx)\n",
    "y = np.linspace(0, 1, Ny)\n",
    "X, Y = np.meshgrid(x, y)\n",
    "dx = x[1] - x[0]\n",
    "dy = y[1] - y[0]\n",
    "\n",
    "grid_points = np.stack([X.ravel(), Y.ravel()], axis=1)\n",
    "points = grid_points.reshape((Nx, Ny, 2))\n",
    "K = 32  # number of boundary points\n",
    "Theta = np.linspace(0, 2 * np.pi, K, endpoint=False) \n",
    "alphas = np.stack((np.cos(Theta), np.sin(Theta)), axis=1)  # (K, 2) array\n",
    "\n",
    "alpha = np.zeros((Nx, Ny, Nt-1, 2))\n",
    "\n",
    "phi = np.zeros((len(x), len(y), Nt))\n",
    "rho = np.zeros((len(x), len(y), Nt))\n",
    "\n",
    "\n",
    "x_mask = (x >= 0.1) & (x <= 0.25)\n",
    "y_mask = (y >= 0.1) & (y <= 0.25)\n",
    "\n",
    "def l(rho):\n",
    "    return 3*rho\n",
    "\n",
    "def g(x, y):\n",
    "    return np.sqrt((x-0.5)**2 + (y-0.5)**2)\n",
    "\n",
    "def V(alpha):\n",
    "    return alpha"
   ]
  },
  {
   "cell_type": "code",
   "execution_count": 18,
   "id": "7a0e476e",
   "metadata": {},
   "outputs": [],
   "source": [
    "def HJB(rho):\n",
    "    for t in range(Nt-1, 0, -1):\n",
    "        s1 = np.zeros((K, 2)) # phi(x+s1)\n",
    "        s2 = np.zeros((K, 2)) # phi(x+s2)\n",
    "        Vs = np.zeros((K,2))\n",
    "        s1 = V(alphas)*dt + np.sqrt(2*dt*sigma)\n",
    "        s2 = V(alphas)*dt - np.sqrt(2*dt*sigma)\n",
    "\n",
    "        N = Nx * Ny\n",
    "        grid_points = np.stack([X.ravel(), Y.ravel()], axis=1)  # shape: (N, 2)\n",
    "\n",
    "        grid_points_expanded = grid_points[:, None, :]\n",
    "\n",
    "        s1_expanded = s1[None, :, :]                        \n",
    "\n",
    "        all_points1 = grid_points_expanded + s1_expanded        # shape: (N, k, 2)\n",
    "        all_points1 = all_points1.reshape(-1, 2)                # shape: (K*N, 2)\n",
    "\n",
    "\n",
    "        s2_expanded = s2[None, :, :]\n",
    "        all_points2 = grid_points_expanded + s2_expanded        # shape: (N, k, 2)\n",
    "        all_points2 = all_points2.reshape(-1, 2)                # shape: (K*N, 2)\n",
    "\n",
    "        def soft_penalty(p):\n",
    "            p = np.array(p)\n",
    "            clipped_p = np.clip(p, [x[0], y[0]], [x[-1], y[-1]])\n",
    "            distance = np.linalg.norm(clipped_p - p)\n",
    "            interp_val = v_interp_raw(clipped_p)\n",
    "            return interp_val + 100*distance**2\n",
    "\n",
    "        v_interp_raw = RegularGridInterpolator((x, y), phi[:,:,t],  bounds_error=False, fill_value=None)\n",
    "        H = 1/2 * (soft_penalty(all_points1) + soft_penalty(all_points2))\n",
    "        H = H.reshape(Nx, Ny, K)\n",
    "        H_val = np.min(H, axis=2)  # shape: (Nx, Ny)\n",
    "        alpha_index = np.argmin(H, axis=2)\n",
    "        alpha[:, :, t-1, :] = alphas[alpha_index]\n",
    "\n",
    "        phi[:, :, t-1] = H_val + l(rho[:, :, t]) * dt\n",
    "    return phi, alpha"
   ]
  },
  {
   "cell_type": "code",
   "execution_count": 19,
   "id": "085402eb",
   "metadata": {},
   "outputs": [],
   "source": [
    "def FP(rho, alpha, time):\n",
    "    Nt = int(time / dt)\n",
    "    points = grid_points.reshape((Nx, Ny, 2))\n",
    "    result = np.zeros((Nx, Ny, Nt))\n",
    "    for k in range(Nt-1):\n",
    "        result[:, :, k] = rho\n",
    "        Y_k1 = (points + alpha[:, :, k, :] * dt + 1/2 * np.sqrt(2*sigma*dt))\n",
    "        Y_k2 = (points + alpha[:, :, k, :] * dt - 1/2 * np.sqrt(2*sigma*dt))\n",
    "        P = Nx * Ny\n",
    "        points_flat = points.reshape(P, 2)\n",
    "        Y1_flat = Y_k1.reshape(P, 2)\n",
    "        Y2_flat = Y_k2.reshape(P, 2)\n",
    "\n",
    "        # ∞-norm difference\n",
    "        diff1 = np.abs(np.asarray(points_flat[:, None, :] - Y1_flat[None, :, :]))\n",
    "        diff2 = np.abs(np.asarray(points_flat[:, None, :] - Y2_flat[None, :, :]))\n",
    "\n",
    "        # Max-norm (∞-norm)\n",
    "        dist1 = np.max(diff1, axis=2)\n",
    "        dist2 = np.max(diff2, axis=2)\n",
    "        \n",
    "        # Apply β as box function\n",
    "        B1 = (dist1 < 0.5 * dx).astype(float)\n",
    "        B2 = (dist2 < 0.5 * dx).astype(float)\n",
    "        \n",
    "        colsum_B1 = np.sum(B1, axis=0)\n",
    "        colsum_B2 = np.sum(B2, axis=0)\n",
    "        colsum_total = colsum_B1 + colsum_B2\n",
    "        # colsum_total[colsum_total == 0] = 1 \n",
    "        B1 /= colsum_total\n",
    "        B2 /= colsum_total\n",
    "        B1 = csr_matrix(B1)\n",
    "        B2 = csr_matrix(B2)\n",
    "    \n",
    "        # Weighted sum\n",
    "        rho_new_flat = (B1 @ rho.reshape((Nx*Ny,)) + B2 @ rho.reshape((Nx*Ny,)))\n",
    "        rho = rho_new_flat.reshape(Nx, Ny)\n",
    "    result[:, :, -1] = rho\n",
    "    return result"
   ]
  },
  {
   "cell_type": "code",
   "execution_count": 20,
   "id": "4dfec973",
   "metadata": {},
   "outputs": [
    {
     "name": "stdout",
     "output_type": "stream",
     "text": [
      "Main timestep: 0\n",
      "Main timestep: 1\n",
      "Main timestep: 2\n",
      "Main timestep: 3\n",
      "Main timestep: 4\n",
      "Main timestep: 5\n",
      "Main timestep: 6\n",
      "Main timestep: 7\n",
      "Main timestep: 8\n",
      "Main timestep: 9\n",
      "Main timestep: 10\n",
      "Main timestep: 11\n",
      "Main timestep: 12\n",
      "Main timestep: 13\n",
      "Main timestep: 14\n",
      "Main timestep: 15\n",
      "Main timestep: 16\n",
      "Main timestep: 17\n",
      "Main timestep: 18\n",
      "Main timestep: 19\n",
      "Main timestep: 20\n",
      "Main timestep: 21\n",
      "Main timestep: 22\n",
      "Main timestep: 23\n",
      "Main timestep: 24\n",
      "Main timestep: 25\n",
      "Main timestep: 26\n",
      "Main timestep: 27\n",
      "Main timestep: 28\n",
      "Main timestep: 29\n",
      "Main timestep: 30\n",
      "Main timestep: 31\n",
      "Main timestep: 32\n",
      "Main timestep: 33\n",
      "Main timestep: 34\n",
      "Main timestep: 35\n",
      "Main timestep: 36\n",
      "Main timestep: 37\n",
      "Main timestep: 38\n",
      "Main timestep: 39\n",
      "Main timestep: 40\n",
      "Main timestep: 41\n",
      "Main timestep: 42\n",
      "Main timestep: 43\n",
      "Main timestep: 44\n",
      "Main timestep: 45\n",
      "Main timestep: 46\n",
      "Main timestep: 47\n",
      "Main timestep: 48\n"
     ]
    }
   ],
   "source": [
    "rho[np.ix_(x_mask, y_mask)] = 0.4   # Initial guess for rho\n",
    "phi[:, :, -1] = g(X, Y)             # Terminal condition\n",
    "\n",
    "for k in range(Nt - 1):  # main time loop\n",
    "    print(\"Main timestep:\", k)\n",
    "    s_index = k\n",
    "    t_start = s_index\n",
    "    t_end = min(s_index + theta_steps, Nt - 1)\n",
    "\n",
    "    # -----------  MFG: α^*(x, t) over [s, s+θ] --------\n",
    "    rho_theta = copy.deepcopy(rho)\n",
    "    for iter in range(20):\n",
    "        phi, alpha = HJB(rho_theta)\n",
    "        if s_index + theta_steps < Nt - 1:\n",
    "            rho_theta_FP = FP(rho_theta[:, :, s_index], alpha, theta)\n",
    "        else:\n",
    "            rho_theta_FP = FP(rho_theta[:, :, s_index], alpha, T - s_index * dt)\n",
    "        rho_theta[:, :, s_index:t_end] = rho_theta_FP[:, :, :]\n",
    "        rho_theta[:, :, t_end:] = rho_theta_FP[:, :, -1][:, :, np.newaxis]\n",
    "\n",
    "    #  α^*(x, s) compute main density\n",
    "    alpha_s = alpha[:, :, s_index, :]  # shape (Nx, Ny, 2)\n",
    "\n",
    "    # ----------- main density: update ρ(x, t_k+1) ----------\n",
    "    Y_k1 = points + alpha_s * dt + 0.5 * np.sqrt(2 * sigma * dt)\n",
    "    Y_k2 = points + alpha_s * dt - 0.5 * np.sqrt(2 * sigma * dt)\n",
    "\n",
    "    P = Nx * Ny\n",
    "    points_flat = points.reshape(P, 2)\n",
    "    Y1_flat = Y_k1.reshape(P, 2)\n",
    "    Y2_flat = Y_k2.reshape(P, 2)\n",
    "\n",
    "    dist1 = np.max(np.abs(points_flat[:, None, :] - Y1_flat[None, :, :]), axis=2)\n",
    "    dist2 = np.max(np.abs(points_flat[:, None, :] - Y2_flat[None, :, :]), axis=2)\n",
    "\n",
    "    B1 = (dist1 < 0.5 * dx).astype(float)\n",
    "    B2 = (dist2 < 0.5 * dx).astype(float)\n",
    "    colsum_total = np.sum(B1, axis=0) + np.sum(B2, axis=0)\n",
    "    colsum_total[colsum_total == 0] = 1.0  # 0\n",
    "    B1 /= colsum_total\n",
    "    B2 /= colsum_total\n",
    "\n",
    "    rho_prev_flat = rho[:, :, k].reshape(P)\n",
    "    rho_new_flat = B1 @ rho_prev_flat + B2 @ rho_prev_flat\n",
    "    rho[:, :, k + 1] = rho_new_flat.reshape(Nx, Ny)\n"
   ]
  },
  {
   "cell_type": "code",
   "execution_count": 23,
   "id": "0410ef60",
   "metadata": {},
   "outputs": [
    {
     "data": {
      "text/plain": [
       "Text(0.5, 1.0, '$\\\\rho(x,y,t=0)$')"
      ]
     },
     "execution_count": 23,
     "metadata": {},
     "output_type": "execute_result"
    },
    {
     "data": {
      "image/png": "[encoded data removed]",
      "text/plain": [
       "<Figure size 640x480 with 2 Axes>"
      ]
     },
     "metadata": {},
     "output_type": "display_data"
    }
   ],
   "source": [
    "plt.pcolormesh(X, Y, rho[:, :, 0], shading='auto', cmap='viridis')\n",
    "plt.colorbar(label='Density')\n",
    "plt.title(r\"$\\rho(x,y,t=0)$\")"
   ]
  },
  {
   "cell_type": "code",
   "execution_count": 22,
   "id": "e0272403",
   "metadata": {},
   "outputs": [
    {
     "data": {
      "text/plain": [
       "Text(0.5, 1.0, '$\\\\rho(x,y,t=T)$')"
      ]
     },
     "execution_count": 22,
     "metadata": {},
     "output_type": "execute_result"
    },
    {
     "data": {
      "image/png": "[encoded data removed]",
      "text/plain": [
       "<Figure size 640x480 with 2 Axes>"
      ]
     },
     "metadata": {},
     "output_type": "display_data"
    }
   ],
   "source": [
    "plt.pcolormesh(X, Y, rho[:, :, -1], shading='auto', cmap='viridis')\n",
    "plt.colorbar(label='Density')\n",
    "plt.title(r\"$\\rho(x,y,t=T)$\")"
   ]
  }
 ],
 "metadata": {
  "kernelspec": {
   "display_name": "base",
   "language": "python",
   "name": "python3"
  },
  "language_info": {
   "codemirror_mode": {
    "name": "ipython",
    "version": 3
   },
   "file_extension": ".py",
   "mimetype": "text/x-python",
   "name": "python",
   "nbconvert_exporter": "python",
   "pygments_lexer": "ipython3",
   "version": "3.12.2"
  }
 },
 "nbformat": 4,
 "nbformat_minor": 5
}
