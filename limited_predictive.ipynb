{
 "cells": [
  {
   "cell_type": "markdown",
   "id": "269f26aa",
   "metadata": {},
   "source": [
    "### The HJB equation:\n",
    "\n",
    "\\begin{align*}\n",
    "-\\partial_t\\phi(x,t) + \\max\\{-V(x,t;a)\\cdot\\nabla\\phi(x,t)-l(x,t,a,\\rho)\\}=\\sigma\\Delta\\phi(x,t)\n",
    "\\end{align*}"
   ]
  },
  {
   "cell_type": "markdown",
   "id": "3149ad55",
   "metadata": {},
   "source": [
    "We have:\n",
    "\n",
    "\\begin{cases}\n",
    "\\mathrm{d}y(x) = V(y,s,\\alpha,\\rho)\\mathrm{d}t+\\sqrt{2\\sigma}\\mathrm{d}W_s\\\\\n",
    "y(t) = x\n",
    "\\end{cases}\n",
    "The cost function is\n",
    "$$\n",
    "J(x,t) = \\int_{t}^{T}l(y,s,\\alpha,\\rho)\\mathrm{d}s+g(y(T)).\n",
    "$$"
   ]
  },
  {
   "cell_type": "markdown",
   "id": "684bbdf3",
   "metadata": {},
   "source": [
    "### The semi-Lagrangian scheme:\n",
    "\n",
    "\\begin{align*}\n",
    "\\phi(x,t^n) = \\min\\{&\\int_{t^n}^{t^{n+1}} l(x,s,a,\\rho)\\mathrm{d}s\\\\\n",
    "&+\\frac{1}{2}(\\phi(x+V\\Delta t+\\sqrt{2\\sigma}\\sqrt{\\Delta t}, t^{n+1})+\\phi(x+V\\Delta t-\\sqrt{2\\sigma}\\sqrt{\\Delta t}, t^{n+1}))\\}\\\\\n",
    "= \\min\\{& l(x,t^{n+1},a,\\rho)\\Delta t\\\\\n",
    "&+\\frac{1}{2}(\\phi(x+V\\Delta t+\\sqrt{2\\sigma}\\sqrt{\\Delta t}, t^{n+1})+\\phi(x+V\\Delta t-\\sqrt{2\\sigma}\\sqrt{\\Delta t}, t^{n+1}))\\}\n",
    "\\end{align*}\n",
    "\n",
    "Here, I consider $2d$ case. For simplicity, here I use \n",
    "$$\n",
    "x=(x_1,x_2)\\\\\n",
    "(V\\Delta t+\\sqrt{2\\sigma\\Delta t})^2 = (V\\Delta t+\\sqrt{2\\sigma\\Delta t})\\cdot(V\\Delta t+\\sqrt{2\\sigma\\Delta t})\n",
    "$$ \n",
    "\n",
    "By Taylor, we have \n",
    "\n",
    "\\begin{cases}\n",
    "&\\phi(x+V\\Delta t+\\sqrt{2\\sigma\\Delta t}, t^{n+1})=\\phi(x, t^{n+1})+\\nabla\\phi(x,t^{n+1})\\cdot(V\\Delta t+\\sqrt{2\\sigma\\Delta t})\\\\\n",
    "&+\\frac{1}{2}(\\partial_{x_1x_1}\\phi(x,t^{n+1})+2\\partial_{x_1x_2}\\phi(x,t^{n+1})+\\partial_{x_2x_2}\\phi(x,t^{n+1}))(V\\Delta t+\\sqrt{2\\sigma\\Delta t})^2\\\\[10pt]\n",
    "&\\phi(x+V\\Delta t-\\sqrt{2\\sigma\\Delta t}, t^{n+1})=\\phi(x, t^{n+1})+\\nabla\\phi(x,t^{n+1})\\cdot(V\\Delta t-\\sqrt{2\\sigma\\Delta t})\\\\\n",
    "&+\\frac{1}{2}(\\partial_{x_1x_1}\\phi(x,t^{n+1})+2\\partial_{x_1x_2}\\phi(x,t^{n+1})+\\partial_{x_2x_2}\\phi(x,t^{n+1}))(V\\Delta t-\\sqrt{2\\sigma\\Delta t})^2\n",
    "\\end{cases}"
   ]
  },
  {
   "cell_type": "markdown",
   "id": "721780ae",
   "metadata": {},
   "source": [
    "Adding these last two terms, we have\n",
    "\n",
    "\\begin{align*}\n",
    "&\\frac{1}{2}((V^2\\Delta t^2+2\\sqrt{2\\sigma\\Delta t}V\\Delta t+2\\sigma\\Delta t)+(V^2\\Delta t^2-2\\sqrt{2\\sigma\\Delta t}V\\Delta t+2\\sigma\\Delta t))\\cdot(\\Delta\\phi(x,t^{n+1}))\\\\\n",
    "&=(V^2\\Delta t^2+2\\sigma\\Delta t)(\\Delta\\phi(x,t^{n+1}))\\\\\n",
    "&=2\\sigma\\Delta t(\\Delta\\phi(x,t^{n+1}))+o(\\Delta t)^2\n",
    "\\end{align*}"
   ]
  },
  {
   "cell_type": "markdown",
   "id": "7469255d",
   "metadata": {},
   "source": [
    " Adding the equations, we can get\n",
    " \n",
    "\\begin{align*}\n",
    "    \\phi(x,t^n) &= \\min\\{\\int_{t^n}^{t^{n+1}} l(x,s,a,\\rho)\\mathrm{d}s+(\\phi(x, t^{n+1})+V\\Delta t\\nabla\\phi(x,t^{n+1}) + \\sigma\\Delta t\\Delta\\phi(x,t^{n+1}))\\}\\\\\n",
    "    &=\\min\\{l(x, t^{n+1})\\Delta t+(\\phi(x, t^{n+1})+V\\Delta t\\nabla\\phi(x,t^{n+1}) + \\sigma\\Delta t\\Delta\\phi(x,t^{n+1}))\\}\n",
    "\\end{align*}"
   ]
  },
  {
   "cell_type": "markdown",
   "id": "70c70461",
   "metadata": {},
   "source": [
    "Dividing $\\Delta t$, we can get\n",
    "\n",
    "\\begin{align*}\n",
    "-\\frac{\\phi(x,t^{n+1})-\\phi(x,t^n)}{\\Delta t} + \\max\\{-V\\nabla\\phi(x,t^{n+1})-l(x, t^{n+1})\\} = \\sigma\\Delta\\phi(x,t^{n+1})\n",
    "\\end{align*}"
   ]
  },
  {
   "cell_type": "code",
   "execution_count": 10,
   "id": "516cadf3",
   "metadata": {},
   "outputs": [],
   "source": [
    "import sys\n",
    "import numpy as np\n",
    "import matplotlib.pyplot as plt\n",
    "from scipy.interpolate import RegularGridInterpolator\n",
    "np.set_printoptions(threshold=np.inf, linewidth=200, suppress=True)"
   ]
  },
  {
   "cell_type": "code",
   "execution_count": null,
   "id": "a481b7cd",
   "metadata": {},
   "outputs": [],
   "source": [
    "T = 0.5\n",
    "Nt = 600\n",
    "dt = T / Nt\n",
    "\n",
    "sigma = 0.05\n",
    "\n",
    "Nx = 50\n",
    "Ny = 50\n",
    "x = np.linspace(0, 1, Nx)\n",
    "y = np.linspace(0, 1, Ny)\n",
    "X, Y = np.meshgrid(x, y)\n",
    "dx = x[1] - x[0]\n",
    "dy = y[1] - y[0]\n",
    "\n",
    "K = 32  # number of boundary points\n",
    "theta = np.linspace(0, 2 * np.pi, K, endpoint=False) \n",
    "alphas = np.stack((np.cos(theta), np.sin(theta)), axis=1)  # (K, 2) array\n",
    "alpha_groups = np.array_split(alphas, 4)\n",
    "\n",
    "phi = np.zeros((len(x), len(y), Nt))\n",
    "rho = np.zeros((len(x), len(y), Nt))\n",
    "\n",
    "\n",
    "x_mask = (x >= 0.1) & (x <= 0.25)\n",
    "y_mask = (y >= 0.1) & (y <= 0.25)\n",
    "\n",
    "def l(rho):\n",
    "    return 3*rho\n",
    "\n",
    "def g(x, y):\n",
    "    return np.sqrt((x-0.5)**2 + (y-0.5)**2)\n",
    "\n",
    "def V(alpha):\n",
    "    return alpha"
   ]
  },
  {
   "cell_type": "code",
   "execution_count": null,
   "id": "26661c5c",
   "metadata": {},
   "outputs": [
    {
     "data": {
      "text/plain": [
       "<matplotlib.image.AxesImage at 0x7f37dd9a7020>"
      ]
     },
     "execution_count": 89,
     "metadata": {},
     "output_type": "execute_result"
    },
    {
     "data": {
      "image/png": "[encoded data removed]",
      "text/plain": [
       "<Figure size 640x480 with 1 Axes>"
      ]
     },
     "metadata": {},
     "output_type": "display_data"
    }
   ],
   "source": [
    "\"\"\"   \n",
    "Initial Guess for rho\n",
    "rho(t=0) = rho(t=0.1) = rho(t=0.2) = ....\n",
    "\"\"\"\n",
    "rho[np.ix_(x_mask, y_mask)] = 0.4   # Initial guess for rho\n",
    "plt.imshow(rho[:, :, 0], extent=[0, 1, 0, 1], origin='lower', cmap='viridis') "
   ]
  },
  {
   "cell_type": "code",
   "execution_count": 91,
   "id": "a4388028",
   "metadata": {},
   "outputs": [],
   "source": [
    "phi[:, :, -1] = g(X, Y)\n",
    "for t in range(Nt-1, 1, -1):\n",
    "    s1 = np.zeros((K, 2)) # phi(x+s1)\n",
    "    s2 = np.zeros((K, 2)) # phi(x+s2)\n",
    "    Vs = np.zeros((K,2))\n",
    "    s1 = V(alphas)*dt + np.sqrt(2*dt*sigma)\n",
    "    s2 = V(alphas)*dt - np.sqrt(2*dt*sigma)\n",
    "\n",
    "    N = Nx * Ny\n",
    "    grid_points = np.stack([X.ravel(), Y.ravel()], axis=1)  # shape: (N, 2)\n",
    "\n",
    "    grid_points_expanded = grid_points[:, None, :]\n",
    "\n",
    "    s1_expanded = s1[None, :, :]                        \n",
    "\n",
    "    all_points1 = grid_points_expanded + s1_expanded        # shape: (N, k, 2)\n",
    "    all_points1 = all_points1.reshape(-1, 2)                # shape: (K*N, 2)\n",
    "\n",
    "\n",
    "    s2_expanded = s2[None, :, :]\n",
    "    all_points2 = grid_points_expanded + s2_expanded        # shape: (N, k, 2)\n",
    "    all_points2 = all_points2.reshape(-1, 2)                # shape: (K*N, 2)\n",
    "\n",
    "    def soft_penalty(p):\n",
    "        p = np.array(p)\n",
    "        clipped_p = np.clip(p, [x[0], y[0]], [x[-1], y[-1]])\n",
    "        distance = np.linalg.norm(clipped_p - p)\n",
    "        interp_val = v_interp_raw(clipped_p)\n",
    "        return interp_val + 100*distance**2\n",
    "\n",
    "    v_interp_raw = RegularGridInterpolator((x, y), phi[:,:,t],  bounds_error=False, fill_value=None)\n",
    "    H = 1/2 * (soft_penalty(all_points1) + soft_penalty(all_points2))\n",
    "    H = H.reshape(Nx, Ny, K)\n",
    "    H = np.min(H, axis=2)  # shape: (Nx, Ny)\n",
    "\n",
    "    phi[:, :, t-1] = H + l(rho[:, :, t]) * dt"
   ]
  },
  {
   "cell_type": "code",
   "execution_count": 95,
   "id": "94351dab",
   "metadata": {},
   "outputs": [
    {
     "data": {
      "text/plain": [
       "<matplotlib.image.AxesImage at 0x7f37d5789fd0>"
      ]
     },
     "execution_count": 95,
     "metadata": {},
     "output_type": "execute_result"
    },
    {
     "data": {
      "image/png": "[encoded data removed]",
      "text/plain": [
       "<Figure size 640x480 with 1 Axes>"
      ]
     },
     "metadata": {},
     "output_type": "display_data"
    }
   ],
   "source": [
    "plt.imshow(phi[:, :, Nt-1], extent=[0, 1, 0, 1], origin='lower', cmap='viridis')"
   ]
  },
  {
   "cell_type": "code",
   "execution_count": 94,
   "id": "2b470831",
   "metadata": {},
   "outputs": [
    {
     "data": {
      "text/plain": [
       "<matplotlib.image.AxesImage at 0x7f37ddf3a930>"
      ]
     },
     "execution_count": 94,
     "metadata": {},
     "output_type": "execute_result"
    },
    {
     "data": {
      "image/png": "[encoded data removed]",
      "text/plain": [
       "<Figure size 640x480 with 1 Axes>"
      ]
     },
     "metadata": {},
     "output_type": "display_data"
    }
   ],
   "source": [
    "plt.imshow(phi[:, :, Nt//2], extent=[0, 1, 0, 1], origin='lower', cmap='viridis')"
   ]
  },
  {
   "cell_type": "code",
   "execution_count": 93,
   "id": "e256b400",
   "metadata": {},
   "outputs": [
    {
     "data": {
      "text/plain": [
       "<matplotlib.image.AxesImage at 0x7f37dd952c60>"
      ]
     },
     "execution_count": 93,
     "metadata": {},
     "output_type": "execute_result"
    },
    {
     "data": {
      "image/png": "[encoded data removed]",
      "text/plain": [
       "<Figure size 640x480 with 1 Axes>"
      ]
     },
     "metadata": {},
     "output_type": "display_data"
    }
   ],
   "source": [
    "plt.imshow(phi[:, :, 0], extent=[0, 1, 0, 1], origin='lower', cmap='viridis')"
   ]
  },
  {
   "cell_type": "code",
   "execution_count": null,
   "id": "04e9ee53",
   "metadata": {},
   "outputs": [],
   "source": []
  }
 ],
 "metadata": {
  "kernelspec": {
   "display_name": "base",
   "language": "python",
   "name": "python3"
  },
  "language_info": {
   "codemirror_mode": {
    "name": "ipython",
    "version": 3
   },
   "file_extension": ".py",
   "mimetype": "text/x-python",
   "name": "python",
   "nbconvert_exporter": "python",
   "pygments_lexer": "ipython3",
   "version": "3.12.4"
  }
 },
 "nbformat": 4,
 "nbformat_minor": 5
}
