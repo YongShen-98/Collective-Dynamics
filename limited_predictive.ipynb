{
 "cells": [
  {
   "cell_type": "markdown",
   "id": "269f26aa",
   "metadata": {},
   "source": [
    "### The HJB equation:\n",
    "\n",
    "\\begin{align*}\n",
    "-\\partial_t\\phi(x,t) + \\max\\{-V(x,t;a)\\cdot\\nabla\\phi(x,t)-l(x,t,a,\\rho)\\}=\\sigma\\Delta\\phi(x,t)\n",
    "\\end{align*}"
   ]
  },
  {
   "cell_type": "markdown",
   "id": "3149ad55",
   "metadata": {},
   "source": [
    "We have:\n",
    "\n",
    "\\begin{cases}\n",
    "\\mathrm{d}y = V(y,s,\\alpha,\\rho)\\mathrm{d}t+\\sqrt{2\\sigma}\\mathrm{d}W_s\\\\\n",
    "y(t) = x\n",
    "\\end{cases}\n",
    "The cost function is\n",
    "$$\n",
    "J(x,t) = \\int_{t}^{T}l(y,s,\\alpha,\\rho)\\mathrm{d}s+g(y(T)).\n",
    "$$"
   ]
  },
  {
   "cell_type": "markdown",
   "id": "684bbdf3",
   "metadata": {},
   "source": [
    "### The semi-Lagrangian scheme:\n",
    "\n",
    "\\begin{align*}\n",
    "\\phi(x,t^n) = \\min\\{&\\int_{t^n}^{t^{n+1}} l(x,s,a,\\rho)\\mathrm{d}s\\\\\n",
    "&+\\frac{1}{2}(\\phi(x+V\\Delta t+\\sqrt{2\\sigma}\\sqrt{\\Delta t}, t^{n+1})+\\phi(x+V\\Delta t-\\sqrt{2\\sigma}\\sqrt{\\Delta t}, t^{n+1}))\\}\\\\\n",
    "= \\min\\{& l(x,t^{n+1},a,\\rho)\\Delta t\\\\\n",
    "&+\\frac{1}{2}(\\phi(x+V\\Delta t+\\sqrt{2\\sigma}\\sqrt{\\Delta t}, t^{n+1})+\\phi(x+V\\Delta t-\\sqrt{2\\sigma}\\sqrt{\\Delta t}, t^{n+1}))\\}\n",
    "\\end{align*}\n",
    "\n",
    "Here, I consider $2d$ case. For simplicity, here I use \n",
    "$$\n",
    "x=(x_1,x_2)\\\\\n",
    "(V\\Delta t+\\sqrt{2\\sigma\\Delta t})^2 = (V\\Delta t+\\sqrt{2\\sigma\\Delta t})\\cdot(V\\Delta t+\\sqrt{2\\sigma\\Delta t})\n",
    "$$ \n",
    "\n",
    "By Taylor, we have \n",
    "\n",
    "\\begin{cases}\n",
    "&\\phi(x+V\\Delta t+\\sqrt{2\\sigma\\Delta t}, t^{n+1})=\\phi(x, t^{n+1})+\\nabla\\phi(x,t^{n+1})\\cdot(V\\Delta t+\\sqrt{2\\sigma\\Delta t})\\\\\n",
    "&+\\frac{1}{2}(\\partial_{x_1x_1}\\phi(x,t^{n+1})+2\\partial_{x_1x_2}\\phi(x,t^{n+1})+\\partial_{x_2x_2}\\phi(x,t^{n+1}))(V\\Delta t+\\sqrt{2\\sigma\\Delta t})^2\\\\[10pt]\n",
    "&\\phi(x+V\\Delta t-\\sqrt{2\\sigma\\Delta t}, t^{n+1})=\\phi(x, t^{n+1})+\\nabla\\phi(x,t^{n+1})\\cdot(V\\Delta t-\\sqrt{2\\sigma\\Delta t})\\\\\n",
    "&+\\frac{1}{2}(\\partial_{x_1x_1}\\phi(x,t^{n+1})+2\\partial_{x_1x_2}\\phi(x,t^{n+1})+\\partial_{x_2x_2}\\phi(x,t^{n+1}))(V\\Delta t-\\sqrt{2\\sigma\\Delta t})^2\n",
    "\\end{cases}"
   ]
  },
  {
   "cell_type": "markdown",
   "id": "721780ae",
   "metadata": {},
   "source": [
    "Adding these last two terms, we have\n",
    "\n",
    "\\begin{align*}\n",
    "&\\frac{1}{2}((V^2\\Delta t^2+2\\sqrt{2\\sigma\\Delta t}V\\Delta t+2\\sigma\\Delta t)+(V^2\\Delta t^2-2\\sqrt{2\\sigma\\Delta t}V\\Delta t+2\\sigma\\Delta t))\\cdot(\\Delta\\phi(x,t^{n+1}))\\\\[10pt]\n",
    "&=(V^2\\Delta t^2+2\\sigma\\Delta t)(\\Delta\\phi(x,t^{n+1}))\\\\[10pt]\n",
    "&=2\\sigma\\Delta t(\\Delta\\phi(x,t^{n+1}))+o(\\Delta t)^2\n",
    "\\end{align*}"
   ]
  },
  {
   "cell_type": "markdown",
   "id": "7469255d",
   "metadata": {},
   "source": [
    " Adding the equations, we can get\n",
    " \n",
    "\\begin{align*}\n",
    "    \\phi(x,t^n) &= \\min\\{\\int_{t^n}^{t^{n+1}} l(x,s,a,\\rho)\\mathrm{d}s+(\\phi(x, t^{n+1})+V\\Delta t\\nabla\\phi(x,t^{n+1}) + \\sigma\\Delta t\\Delta\\phi(x,t^{n+1}))\\}\\\\\n",
    "    &=\\min\\{l(x, t^{n+1})\\Delta t+(\\phi(x, t^{n+1})+V\\Delta t\\nabla\\phi(x,t^{n+1}) + \\sigma\\Delta t\\Delta\\phi(x,t^{n+1}))\\}\n",
    "\\end{align*}"
   ]
  },
  {
   "cell_type": "markdown",
   "id": "70c70461",
   "metadata": {},
   "source": [
    "Dividing $\\Delta t$, we can get\n",
    "\n",
    "\\begin{align*}\n",
    "-\\frac{\\phi(x,t^{n+1})-\\phi(x,t^n)}{\\Delta t} + \\max\\{-V\\nabla\\phi(x,t^{n+1})-l(x, t^{n+1})\\} = \\sigma\\Delta\\phi(x,t^{n+1})\n",
    "\\end{align*}"
   ]
  },
  {
   "cell_type": "markdown",
   "id": "639974b4",
   "metadata": {},
   "source": [
    "### Lagrange-Galerkin Scheme for the Fokker-Planck equation\n",
    "\n",
    "We consider the Fokker–Planck equation:\n",
    "\n",
    "\\begin{align*}\n",
    "\\partial_s \\rho(y,s) + \\nabla \\cdot \\left( \\rho(y,s)\\, V(y,s; \\alpha^*, \\rho) \\right) = \\sigma \\Delta \\rho(y,s), & y \\in \\mathbb{R}^2,\\ s \\in (0,T), \\\\\n",
    "\\rho(y,0) = \\rho_0(y), & y \\in \\mathbb{R}^2.\n",
    "\\end{align*}\n",
    "\n",
    "The corresponding stochastic process $y(s)$ is defined by the Itô SDE:\n",
    "\n",
    "\\begin{align*}\n",
    "\\mathrm{d}y(s) = V(y(s), s; \\alpha, \\rho)\\, \\mathrm{d}s + \\sqrt{2\\sigma}\\, \\mathrm{d}W_s\n",
    "\\end{align*}\n",
    "\n",
    "Using the Euler-Maruyama method, we define the discrete-time approximation $Y_k$ by:\n",
    "\n",
    "\\begin{align*}\n",
    "Y_{k} = x + \\Delta s \\cdot V(Y_k, s_k; \\alpha_k, \\rho_k) + \\sqrt{2\\sigma\\, \\Delta s} \\cdot \\xi_k,\n",
    "\\end{align*}\n",
    "\n",
    "where $\\xi_k \\sim \\mathcal{N}(0, I)$ are i.i.d. standard Gaussian random vectors in $\\mathbb{R}^2$.  (Mostly, I can use $P(\\xi_k=\\pm 1)=1/2$)\n"
   ]
  },
  {
   "cell_type": "markdown",
   "id": "a1c62240",
   "metadata": {},
   "source": [
    "Here is the semi-discrete approximation:\n",
    "\n",
    "\\begin{align*}\n",
    "\\rho_{k+1} &= Y_k \\sharp \\rho_k, \\\\\n",
    "\\rho_0 &= \\rho_0,\n",
    "\\end{align*}\n",
    "\n",
    "or, equivalently, for every test function $\\phi:\\mathbb{R}^d \\to \\mathbb{R}$, we have\n",
    "\n",
    "\\begin{align*}\n",
    "\\int_{\\mathbb{R}^d} \\phi(x)\\, \\rho_{k+1}(x)\\, dx = \\int_{\\mathbb{R}^d} \\phi(Y_k(x))\\, \\rho_k(x)\\, dx.\n",
    "\\end{align*}\n"
   ]
  },
  {
   "cell_type": "markdown",
   "id": "89c8215e",
   "metadata": {},
   "source": [
    "Here we consider the finite element basis $\\{\\beta_i\\}$, given the regular mesh defined by $\\{E_i\\}$\n",
    "\n",
    "\\begin{align*}\n",
    "E_i = \\{x\\in\\mathbb{R}^d, |x-x_i|_{\\infty}\\leq\\frac{\\Delta x}{2}\\}.\n",
    "\\end{align*}\n",
    "\n",
    "And we define\n",
    "\n",
    "\\begin{align*}\n",
    "\\rho_{0,i}=\\frac{1}{(\\Delta x)^d}\\int_{E_i}\\rho_0(x)\\mathrm{d}x\n",
    "\\end{align*}\n",
    "\n",
    " We look for an approximation:\n",
    "\n",
    "\\begin{align*}\n",
    "\\rho(t_k, x) = \\sum\\limits_{i}\\rho_{k,i}\\beta_i(x)\n",
    "\\end{align*}\n",
    "\n",
    "We take $\\phi(x) = \\beta_i(x)$ to obtain the following equations\n",
    "\n",
    "\\begin{align*}\n",
    "\\sum\\limits_{j}\\rho_{k+1,j}\\int\\beta_{j}(x)\\beta_i(x)\\mathrm{d}x = \\sum\\limits_{j}\\rho_{k,j}\\int\\beta_j(x)\\beta_i(Y_k(x))\\mathrm{d}x\n",
    "\\end{align*}"
   ]
  },
  {
   "cell_type": "markdown",
   "id": "6b34b306",
   "metadata": {},
   "source": [
    "In this section, I will take this basis: $\\beta_i:=\\mathbb{I}_{E_i}$. So the __LG scheme__ will be:\n",
    "\n",
    "\\begin{align*}\n",
    "\\rho_{k+1} = B_k\\rho_k,\n",
    "\\end{align*}\n",
    "\n",
    "where\n",
    "\n",
    "\\begin{align*}\n",
    "B_{i,j} = \\beta_i(y_k(x_j)).\n",
    "\\end{align*}"
   ]
  },
  {
   "cell_type": "markdown",
   "id": "b0998218",
   "metadata": {},
   "source": [
    "### Algorithm\n",
    "\n",
    "---\n",
    "\n",
    "#### input and output\n",
    "- initial guess: $\\rho^{0}(x,y,t)$\n",
    "- condition: $\\rho(x,y,0), \\phi(x,y,T)$\n",
    "-  output: $\\phi(x,y,t), \\rho(x,y,t)$\n",
    "#### Step\n",
    "1. **initial set**  \n",
    "   set initial value $ \\rho^{0}(x,y,t) $.\n",
    "\n",
    "   set condition value $\\rho(x,y,0), \\phi(x,y,T)$\n",
    "\n",
    "2. **HJB**  \n",
    "  Using the semi-Lagrangian scheme and the density function $\\rho^{k}(x,y,t)$, compute the functions $\\phi^{k}(x,y,t)$ and $\\alpha^{k}(x,y,t)$.\n",
    "\n",
    "3. **FP**  \n",
    "   Using the L-G scheme and the control function $\\alpha^{k}(x,y,t)$, compute the density function $\\rho^{new}(x,y,t)$\n",
    "\n",
    "4. **update**  \n",
    "   $\\rho^{k+1} = (\\theta)\\rho^{new} + (1-\\theta)\\rho^k$\n",
    "\n",
    "---\n"
   ]
  },
  {
   "cell_type": "code",
   "execution_count": 253,
   "id": "516cadf3",
   "metadata": {},
   "outputs": [],
   "source": [
    "import sys\n",
    "import copy\n",
    "import time\n",
    "import numpy as np\n",
    "import cupy as cp\n",
    "import matplotlib.pyplot as plt\n",
    "from scipy.interpolate import RegularGridInterpolator\n",
    "from scipy.sparse import csr_matrix\n",
    "from cupyx.scipy.sparse import csr_matrix"
   ]
  },
  {
   "cell_type": "code",
   "execution_count": 254,
   "id": "a481b7cd",
   "metadata": {},
   "outputs": [],
   "source": [
    "T = 0.5\n",
    "Nt = 50\n",
    "dt = T / Nt\n",
    "\n",
    "sigma = 0.05\n",
    "\n",
    "Nx = 31\n",
    "Ny = 31\n",
    "x = np.linspace(0, 1, Nx)\n",
    "y = np.linspace(0, 1, Ny)\n",
    "X, Y = np.meshgrid(x, y)\n",
    "dx = x[1] - x[0]\n",
    "dy = y[1] - y[0]\n",
    "\n",
    "K = 32  # number of boundary points\n",
    "theta = np.linspace(0, 2 * np.pi, K, endpoint=False) \n",
    "alphas = np.stack((np.cos(theta), np.sin(theta)), axis=1)  # (K, 2) array\n",
    "\n",
    "phi = np.zeros((len(x), len(y), Nt))\n",
    "rho = np.zeros((len(x), len(y), Nt))\n",
    "\n",
    "\n",
    "x_mask = (x >= 0.1) & (x <= 0.25)\n",
    "y_mask = (y >= 0.1) & (y <= 0.25)\n",
    "\n",
    "def l(rho):\n",
    "    return 3*rho\n",
    "\n",
    "def g(x, y):\n",
    "    return np.sqrt((x-0.5)**2 + (y-0.5)**2)\n",
    "\n",
    "def V(alpha):\n",
    "    return alpha"
   ]
  },
  {
   "cell_type": "code",
   "execution_count": 255,
   "id": "a4388028",
   "metadata": {},
   "outputs": [],
   "source": [
    "\"\"\"   \n",
    "Initial Guess for rho\n",
    "rho(t=0) = rho(t=0.1) = rho(t=0.2) = ....\n",
    "\"\"\"\n",
    "rho[np.ix_(x_mask, y_mask)] = 0.4   # Initial guess for rho\n",
    "\n",
    "\n",
    "phi[:, :, -1] = g(X, Y)\n",
    "alpha = np.zeros((Nx, Ny, Nt-1, 2))\n",
    "\n",
    "for iter in range(200):\n",
    "    for t in range(Nt-1, 0, -1):\n",
    "        s1 = np.zeros((K, 2)) # phi(x+s1)\n",
    "        s2 = np.zeros((K, 2)) # phi(x+s2)\n",
    "        Vs = np.zeros((K,2))\n",
    "        s1 = V(alphas)*dt + np.sqrt(2*dt*sigma)\n",
    "        s2 = V(alphas)*dt - np.sqrt(2*dt*sigma)\n",
    "\n",
    "        N = Nx * Ny\n",
    "        grid_points = np.stack([X.ravel(), Y.ravel()], axis=1)  # shape: (N, 2)\n",
    "\n",
    "        grid_points_expanded = grid_points[:, None, :]\n",
    "\n",
    "        s1_expanded = s1[None, :, :]                        \n",
    "\n",
    "        all_points1 = grid_points_expanded + s1_expanded        # shape: (N, k, 2)\n",
    "        all_points1 = all_points1.reshape(-1, 2)                # shape: (K*N, 2)\n",
    "\n",
    "\n",
    "        s2_expanded = s2[None, :, :]\n",
    "        all_points2 = grid_points_expanded + s2_expanded        # shape: (N, k, 2)\n",
    "        all_points2 = all_points2.reshape(-1, 2)                # shape: (K*N, 2)\n",
    "\n",
    "        def soft_penalty(p):\n",
    "            p = np.array(p)\n",
    "            clipped_p = np.clip(p, [x[0], y[0]], [x[-1], y[-1]])\n",
    "            distance = np.linalg.norm(clipped_p - p)\n",
    "            interp_val = v_interp_raw(clipped_p)\n",
    "            return interp_val + 100*distance**2\n",
    "        v_interp_raw = RegularGridInterpolator((x, y), phi[:,:,t],  bounds_error=False, fill_value=None)\n",
    "        H = 1/2 * (soft_penalty(all_points1) + soft_penalty(all_points2))\n",
    "        H = H.reshape(Nx, Ny, K)\n",
    "        H_val = np.min(H, axis=2)  # shape: (Nx, Ny)\n",
    "        alpha_index = np.argmin(H, axis=2)\n",
    "        alpha[:, :, t-1, :] = alphas[alpha_index]\n",
    "\n",
    "        phi[:, :, t-1] = H_val + l(rho[:, :, t]) * dt\n",
    "\n",
    "    points = grid_points.reshape((Nx, Ny, 2))\n",
    "    \n",
    "    rho_old = copy.deepcopy(rho)\n",
    "    for k in range(Nt-1):\n",
    "    # Reshape\n",
    "        Y_k1 = (points + alpha[:, :, k, :] * dt + 1/2 * np.sqrt(2*sigma*dt))\n",
    "        Y_k2 = (points + alpha[:, :, k, :] * dt - 1/2 * np.sqrt(2*sigma*dt))\n",
    "        P = Nx * Ny\n",
    "        points_flat = points.reshape(P, 2)\n",
    "        Y1_flat = Y_k1.reshape(P, 2)\n",
    "        Y2_flat = Y_k2.reshape(P, 2)\n",
    "        rho_flat = cp.asarray(rho[:, :, k].reshape(P))\n",
    "\n",
    "        # ∞-norm difference\n",
    "        diff1 = cp.abs(cp.asarray(points_flat[:, None, :] - Y1_flat[None, :, :]))\n",
    "        diff2 = cp.abs(cp.asarray(points_flat[:, None, :] - Y2_flat[None, :, :]))\n",
    "\n",
    "        # Max-norm (∞-norm)\n",
    "        dist1 = cp.max(diff1, axis=2)\n",
    "        dist2 = cp.max(diff2, axis=2)\n",
    "        \n",
    "        # Apply β as box function\n",
    "        B1 = (dist1 < 0.5 * dx).astype(float)\n",
    "        B2 = (dist2 < 0.5 * dx).astype(float)\n",
    "        \n",
    "        colsum_B1 = cp.sum(B1, axis=0)\n",
    "        colsum_B2 = cp.sum(B2, axis=0)\n",
    "        colsum_total = colsum_B1 + colsum_B2\n",
    "        # colsum_total[colsum_total == 0] = 1  # 防止除零\n",
    "\n",
    "        B1 /= colsum_total\n",
    "        B2 /= colsum_total\n",
    "\n",
    "        B1 = csr_matrix(B1)\n",
    "        B2 = csr_matrix(B2)\n",
    "    \n",
    "        # Weighted sum\n",
    "        rho_new_flat = (B1 @ rho_flat + B2 @ rho_flat)\n",
    "        rho[:, :, k+1] = rho_new_flat.get().reshape(Nx, Ny)\n",
    "        #print(f\"Step {k} total mass: {np.sum(rho[:, :, k+1])}\")\n",
    "\n",
    "    rho = .05*rho + .95*rho_old"
   ]
  },
  {
   "cell_type": "code",
   "execution_count": 256,
   "id": "12f06578",
   "metadata": {},
   "outputs": [
    {
     "data": {
      "text/plain": [
       "Text(0.5, 1.0, '$\\\\rho(x,y,t=0)$')"
      ]
     },
     "execution_count": 256,
     "metadata": {},
     "output_type": "execute_result"
    },
    {
     "data": {
      "image/png": "[encoded data removed]",
      "text/plain": [
       "<Figure size 640x480 with 2 Axes>"
      ]
     },
     "metadata": {},
     "output_type": "display_data"
    }
   ],
   "source": [
    "plt.pcolormesh(X, Y, rho[:, :, 0], shading='auto', cmap='viridis')\n",
    "plt.colorbar(label='Density')\n",
    "plt.title(r\"$\\rho(x,y,t=0)$\")"
   ]
  },
  {
   "cell_type": "code",
   "execution_count": 257,
   "id": "60f56187",
   "metadata": {},
   "outputs": [
    {
     "data": {
      "text/plain": [
       "Text(0.5, 1.0, '$\\\\rho(x,y,t=T)$')"
      ]
     },
     "execution_count": 257,
     "metadata": {},
     "output_type": "execute_result"
    },
    {
     "data": {
      "image/png": "[encoded data removed]",
      "text/plain": [
       "<Figure size 640x480 with 2 Axes>"
      ]
     },
     "metadata": {},
     "output_type": "display_data"
    }
   ],
   "source": [
    "plt.pcolormesh(X, Y, rho[:, :, -1], shading='auto', cmap='viridis')\n",
    "plt.colorbar(label='Density')\n",
    "plt.title(r\"$\\rho(x,y,t=T)$\")"
   ]
  },
  {
   "cell_type": "code",
   "execution_count": 258,
   "id": "d1e815d7",
   "metadata": {},
   "outputs": [
    {
     "data": {
      "text/plain": [
       "Text(0.5, 1.0, '$\\\\rho(x,y,t=T)$')"
      ]
     },
     "execution_count": 258,
     "metadata": {},
     "output_type": "execute_result"
    },
    {
     "data": {
      "image/png": "[encoded data removed]",
      "text/plain": [
       "<Figure size 640x480 with 2 Axes>"
      ]
     },
     "metadata": {},
     "output_type": "display_data"
    }
   ],
   "source": [
    "plt.pcolormesh(X, Y, rho_old[:, :, -1], shading='auto', cmap='viridis')\n",
    "plt.colorbar(label='Density')\n",
    "plt.title(r\"$\\rho(x,y,t=T)$\")"
   ]
  },
  {
   "cell_type": "code",
   "execution_count": 259,
   "id": "bfd7cfa7",
   "metadata": {},
   "outputs": [
    {
     "data": {
      "text/plain": [
       "10.0"
      ]
     },
     "execution_count": 259,
     "metadata": {},
     "output_type": "execute_result"
    }
   ],
   "source": [
    "np.sum(rho[:, :, 0])"
   ]
  },
  {
   "cell_type": "code",
   "execution_count": 260,
   "id": "be3bbbe7",
   "metadata": {},
   "outputs": [
    {
     "data": {
      "text/plain": [
       "9.999999999999993"
      ]
     },
     "execution_count": 260,
     "metadata": {},
     "output_type": "execute_result"
    }
   ],
   "source": [
    "np.sum(rho[:, :, -1])"
   ]
  },
  {
   "cell_type": "code",
   "execution_count": 261,
   "id": "b82a0e54",
   "metadata": {},
   "outputs": [],
   "source": [
    "# points = grid_points.reshape((Nx, Ny, 2))\n",
    "# def betaij(points, i):\n",
    "#     if np.max(np.abs(points - i))< .5 * dx:\n",
    "#         return 1\n",
    "#     else: return 0\n",
    "# for k in range(Nt-1):\n",
    "#     Y_k1 = (points+alpha[:,:,k,:]*dt+1/2*np.sqrt(2*sigma*dt))\n",
    "#     Y_k2 = (points+alpha[:,:,k,:]*dt-1/2*np.sqrt(2*sigma*dt))\n",
    "#     for i1 in range(Nx):\n",
    "#         for i2 in range(Ny):\n",
    "#             sum1 = 0\n",
    "#             sum2 = 0\n",
    "#             for j1 in range(Nx):\n",
    "#                 for j2 in range(Ny):\n",
    "#                     sum1 += betaij(Y_k1[j1,j2,:], points[i1,i2,:])*rho[j1,j2,k]\n",
    "#                     sum2 += betaij(Y_k2[j1,j2,:], points[i1,i2,:])*rho[j1,j2,k]\n",
    "#             rho[i1,i2,k+1] = 1/2 * (sum1+sum2)"
   ]
  }
 ],
 "metadata": {
  "kernelspec": {
   "display_name": "base",
   "language": "python",
   "name": "python3"
  },
  "language_info": {
   "codemirror_mode": {
    "name": "ipython",
    "version": 3
   },
   "file_extension": ".py",
   "mimetype": "text/x-python",
   "name": "python",
   "nbconvert_exporter": "python",
   "pygments_lexer": "ipython3",
   "version": "3.12.4"
  }
 },
 "nbformat": 4,
 "nbformat_minor": 5
}
